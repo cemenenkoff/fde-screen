{
 "cells": [
  {
   "cell_type": "markdown",
   "metadata": {},
   "source": [
    "# FDE Technical Screen\n",
    "\n",
    "## Objective\n",
    "- Write a ***function*** to ***sort*** packages into stacks ***by volume*** and ***mass***.\n",
    "\n",
    "## Rules\n",
    "- A ***package*** is\n",
    "  - a rectangular prism with volume defined by $V=xyz$.\n",
    "  - roughly constant density with mass defined by $m=\\rho V$.\n",
    "  - ***bulky*** $(\\beta)$ if\n",
    "    - $V\\geq10^6\\mathrm{cm}^3$ ***or***\n",
    "    - $\\max(x,y,z)\\geq150\\mathrm{cm}$.\n",
    "  - ***heavy*** $(\\eta)$ if\n",
    "    - $m\\geq20\\mathrm{kg}$.\n",
    "- A stack is\n",
    "  - ***STANDARD*** if $\\neg\\beta\\land\\neg\\eta = \\neg(\\beta\\lor\\eta)$\n",
    "  - ***SPECIAL*** if $\\beta\\lor\\eta$\n",
    "  - ***REJECTED*** if $\\beta\\land\\eta$"
   ]
  },
  {
   "cell_type": "code",
   "execution_count": 1,
   "metadata": {},
   "outputs": [],
   "source": [
    "from decimal import Decimal\n",
    "\n",
    "\n",
    "def sort(width: float, height: float, length: float, mass: float) -> str:\n",
    "    \"\"\"Sort a package into a stack based on its dimensions and mass.\n",
    "\n",
    "    Possible package stacks are STANDARD, SPECIAL, or REJECTED. Note that we use the\n",
    "    `Decimal` class for high-precision calculation.\n",
    "\n",
    "    Args:\n",
    "        width (float): Width of the package in centimeters.\n",
    "        height (float): Height of the package in centimeters.\n",
    "        length (float): Length of the package in centimeters.\n",
    "        mass (float): Mass of the package in kilograms.\n",
    "\n",
    "    Returns:\n",
    "        str: The uppercase string representing the appropriate stack for the given package.\n",
    "    \"\"\"\n",
    "    if any(v <= 0 for v in [width, height, length, mass]):  # Not physically possible.\n",
    "        return \"REJECTED\"\n",
    "    width, height, length, mass = map(Decimal, [width, height, length, mass])\n",
    "    is_bulky = (\n",
    "        width * length * height >= 10**6 or max([length, width, height]) >= 150\n",
    "    )\n",
    "    is_heavy = mass >= 20\n",
    "    # print(f\"B:{is_bulky}, H:{is_heavy}\")\n",
    "    if is_bulky and is_heavy:\n",
    "        return \"REJECTED\"\n",
    "    if is_bulky or is_heavy:\n",
    "        return \"SPECIAL\"\n",
    "    return \"STANDARD\""
   ]
  },
  {
   "cell_type": "code",
   "execution_count": 2,
   "metadata": {},
   "outputs": [
    {
     "data": {
      "text/plain": [
       "'SPECIAL'"
      ]
     },
     "execution_count": 2,
     "metadata": {},
     "output_type": "execute_result"
    }
   ],
   "source": [
    "# Quick sanity check\n",
    "sort(149.9999, 149.99999999, 149.999999, 19.9999)  # Note that V exceeds 1M!"
   ]
  },
  {
   "cell_type": "code",
   "execution_count": 3,
   "metadata": {},
   "outputs": [
    {
     "name": "stderr",
     "output_type": "stream",
     "text": [
      ".....\n",
      "----------------------------------------------------------------------\n",
      "Ran 5 tests in 0.003s\n",
      "\n",
      "OK\n"
     ]
    },
    {
     "data": {
      "text/plain": [
       "<unittest.runner.TextTestResult run=5 errors=0 failures=0>"
      ]
     },
     "execution_count": 3,
     "metadata": {},
     "output_type": "execute_result"
    }
   ],
   "source": [
    "import unittest\n",
    "from fractions import Fraction\n",
    "from math import sqrt\n",
    "\n",
    "\n",
    "class TestSortFunction(unittest.TestCase):\n",
    "    def test_standard(self):\n",
    "        self.assertEqual(sort(30, 20, 10, 2), \"STANDARD\")  # Shoe box\n",
    "        self.assertEqual(sort(50, 50, 50, 10), \"STANDARD\")  # Computer box\n",
    "\n",
    "    def test_bulky(self):\n",
    "        self.assertEqual(sort(200, 50, 50, 10), \"SPECIAL\")  # max(x,y,z) > 150\n",
    "        self.assertEqual(sort(50, 200, 50, 10), \"SPECIAL\")\n",
    "        self.assertEqual(sort(50, 50, 200, 10), \"SPECIAL\")\n",
    "        self.assertEqual(sort(50, 200, 200, 10), \"SPECIAL\")  # Two exceed limit\n",
    "        self.assertEqual(sort(200, 50, 200, 10), \"SPECIAL\")\n",
    "        self.assertEqual(sort(200, 200, 50, 10), \"SPECIAL\")\n",
    "        self.assertEqual(sort(200, 200, 200, 10), \"SPECIAL\")  # Three exceed limit\n",
    "\n",
    "        self.assertEqual(sort(150, 50, 50, 10), \"SPECIAL\")  # max(x,y,z) = 150\n",
    "        self.assertEqual(sort(50, 150, 50, 10), \"SPECIAL\")\n",
    "        self.assertEqual(sort(50, 50, 150, 10), \"SPECIAL\")\n",
    "        self.assertEqual(sort(50, 150, 150, 10), \"SPECIAL\")  # Two at limit\n",
    "        self.assertEqual(sort(150, 50, 150, 10), \"SPECIAL\")\n",
    "        self.assertEqual(sort(150, 150, 50, 10), \"SPECIAL\")\n",
    "        self.assertEqual(sort(150, 150, 150, 10), \"SPECIAL\")  # Three at limit\n",
    "\n",
    "        self.assertEqual(sort(100, 100, 101, 10), \"SPECIAL\")  # V > 10^6\n",
    "        self.assertEqual(sort(100, 100, 100, 10), \"SPECIAL\")  # V = 10^6\n",
    "\n",
    "    def test_heavy(self):\n",
    "        self.assertEqual(sort(50, 50, 50, 25), \"SPECIAL\")  # m > 20 kg\n",
    "        self.assertEqual(sort(50, 50, 50, 20), \"SPECIAL\")  # m = 20 kg\n",
    "        self.assertNotEqual(sort(50, 50, 50, 19), \"SPECIAL\")  # m < 20 kg\n",
    "        self.assertNotEqual(sort(50, 50, 50, -20), \"SPECIAL\")  # invalid\n",
    "\n",
    "    def test_rejected(self):\n",
    "        self.assertEqual(sort(200, 200, 200, 30), \"REJECTED\")  # All dims + mass\n",
    "        self.assertEqual(sort(200, 10, 10, 30), \"REJECTED\")  # One dim + mass\n",
    "        self.assertEqual(sort(10, 200, 10, 30), \"REJECTED\")\n",
    "        self.assertEqual(sort(10, 10, 200, 30), \"REJECTED\")\n",
    "        self.assertEqual(sort(-1, 1, 1, 1), \"REJECTED\")  # Invalid input\n",
    "        # Can do all combos of negative and 0 later with some generator...\n",
    "        self.assertEqual(sort(-1, -1, 1, 0), \"REJECTED\")\n",
    "        self.assertEqual(sort(-1, -1, -1, 0), \"REJECTED\")\n",
    "        self.assertEqual(sort(-1, -1, -1, -1), \"REJECTED\")\n",
    "        self.assertEqual(sort(1, -1, 1, 1), \"REJECTED\")\n",
    "        self.assertEqual(sort(1, -1, -1, 1), \"REJECTED\")\n",
    "        self.assertEqual(sort(0, -1, -1, -1), \"REJECTED\")\n",
    "        self.assertEqual(sort(1, 0, -1, 1), \"REJECTED\")\n",
    "        self.assertEqual(sort(1, 1, 1, -1), \"REJECTED\")\n",
    "\n",
    "    def test_edge_cases(self):\n",
    "        # 149.999 * y * z = 999_999.999\n",
    "        const = sqrt(999_999.999 / 149.999)\n",
    "        self.assertEqual(sort(149.999, const, const, 19.999), \"STANDARD\")  # All below\n",
    "        self.assertEqual(sort(149.999, const, const, 20), \"SPECIAL\")  # Mass at limit\n",
    "        # All dims and mass below, but volume equals limit\n",
    "        const = sqrt(Fraction(1_000_000 / 149.999))\n",
    "        self.assertEqual(sort(149.999, const, const, 19.999), \"SPECIAL\")\n",
    "        self.assertEqual(sort(150, 1, 1, 19.999), \"SPECIAL\")  # One dim at limit\n",
    "\n",
    "unittest.TextTestRunner().run(\n",
    "    unittest.TestLoader().loadTestsFromTestCase(TestSortFunction)\n",
    ")\n"
   ]
  }
 ],
 "metadata": {
  "kernelspec": {
   "display_name": "Python 3",
   "language": "python",
   "name": "python3"
  },
  "language_info": {
   "codemirror_mode": {
    "name": "ipython",
    "version": 3
   },
   "file_extension": ".py",
   "mimetype": "text/x-python",
   "name": "python",
   "nbconvert_exporter": "python",
   "pygments_lexer": "ipython3",
   "version": "3.12.4"
  }
 },
 "nbformat": 4,
 "nbformat_minor": 2
}
